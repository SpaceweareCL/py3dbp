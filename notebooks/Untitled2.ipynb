{
 "cells": [
  {
   "cell_type": "code",
   "execution_count": null,
   "id": "f99971b3-ac34-4ddd-b542-5e02de94a60d",
   "metadata": {},
   "outputs": [],
   "source": [
    "from py3dbp import Packer, Bin, Item\n",
    "\n",
    "import numpy as np\n",
    "import matplotlib.pyplot as plt\n",
    "from mpl_toolkits.mplot3d import Axes3D\n",
    "\n",
    "def get_cube():   \n",
    "    phi = np.arange(1,10,2)*np.pi/4\n",
    "    Phi, Theta = np.meshgrid(phi, phi)\n",
    "\n",
    "    x = np.cos(Phi)*np.sin(Theta)\n",
    "    y = np.sin(Phi)*np.sin(Theta)\n",
    "    z = np.cos(Theta)/np.sqrt(2)\n",
    "    return x,y,z\n",
    "\n",
    "def get_cmap(n, name='hsv'):\n",
    "    '''Returns a function that maps each index in 0, 1, ..., n-1 to a distinct \n",
    "    RGB color; the keyword argument name must be a standard mpl colormap name.'''\n",
    "    return plt.cm.get_cmap(name, n)\n",
    "\n",
    "\n",
    "truck_list = list()\n",
    "truck.append(Bin('bin1', 6, 1, 3, 7000.0))\n",
    "truck.append(Bin('bin2', 6, 1, 3, 7000.0))\n",
    "truck.append(Bin('bin3', 6, 1, 3, 7000.0))\n",
    "truck.append(Bin('bin4', 6, 1, 3, 7000.0))\n",
    "truck.append(Bin('bin5', 6, 1, 3, 7000.0))\n",
    "\n",
    "\n",
    "\n"
   ]
  }
 ],
 "metadata": {
  "kernelspec": {
   "display_name": "Python 3",
   "language": "python",
   "name": "python3"
  },
  "language_info": {
   "codemirror_mode": {
    "name": "ipython",
    "version": 3
   },
   "file_extension": ".py",
   "mimetype": "text/x-python",
   "name": "python",
   "nbconvert_exporter": "python",
   "pygments_lexer": "ipython3",
   "version": "3.8.10"
  }
 },
 "nbformat": 4,
 "nbformat_minor": 5
}
